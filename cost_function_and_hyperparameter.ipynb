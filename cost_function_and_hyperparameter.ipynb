{
 "cells": [
  {
   "cell_type": "code",
   "execution_count": null,
   "metadata": {},
   "outputs": [],
   "source": [
    "import numpy as np\n",
    "from scipy import stats\n",
    "from CTDGMR.utils import *\n",
    "from CTDGMR.gmm_reduction import *\n",
    "from matplotlib import pyplot as plt\n",
    "\n",
    "%matplotlib inline"
   ]
  },
  {
   "cell_type": "code",
   "execution_count": null,
   "metadata": {},
   "outputs": [],
   "source": [
    "def gmm_plot2d(means, covs, weights, BBox, log_scale=False, X=None, file_name=None):\n",
    "    x_ticks = np.linspace(BBox[0], BBox[1], 500)\n",
    "    y_ticks = np.linspace(BBox[2], BBox[3], 500)\n",
    "    xx, yy = np.meshgrid(x_ticks, y_ticks)\n",
    "    zz = np.zeros(xx.shape)\n",
    "    pos = np.empty(xx.shape + (2, ))\n",
    "    pos[:, :, 0] = xx\n",
    "    pos[:, :, 1] = yy\n",
    "    \n",
    "    fig, ax = plt.subplots(figsize = (6,6))\n",
    "  \n",
    "    for (l, s), w in zip(zip(means, covs), weights):\n",
    "        zz += ss.multivariate_normal.pdf(pos, mean=l, cov=s) * w\n",
    "    if log_scale:\n",
    "        zz = np.log(zz)\n",
    "    img = ax.imshow(np.flipud(zz), extent = [BBox[0], BBox[1],\n",
    "                                               BBox[2], BBox[3]])   \n",
    "    if X is not None:\n",
    "        ax.scatter(X[:,0], X[:,1], s=1,c='r')\n",
    "    if file_name is not None:\n",
    "        fig.savefig(fname=file_name, dpi=200, bbox_inches = 'tight',pad_inches = 0)"
   ]
  },
  {
   "cell_type": "markdown",
   "metadata": {},
   "source": [
    "# case 1"
   ]
  },
  {
   "cell_type": "code",
   "execution_count": null,
   "metadata": {},
   "outputs": [],
   "source": [
    "eigvals = [np.array([1, 0.01])]\n",
    "angles = [0, np.pi/2]\n",
    "\n",
    "def rotate_matrix(theta):\n",
    "    return np.array([np.cos(theta), -np.sin(theta), np.sin(theta), np.cos(theta)]).reshape((2,2))\n",
    "\n",
    "b_covs = []\n",
    "\n",
    "for i in range(len(angles)):\n",
    "    rm = rotate_matrix(angles[i])\n",
    "    for eigval in eigvals:\n",
    "        b_covs.append(rm@np.diag(eigval)@rm.T)\n",
    "\n",
    "b_covs = np.stack(b_covs)\n",
    "\n",
    "\n",
    "b_covs = np.tile(b_covs, (4,1,1))\n",
    "\n",
    "b_means = np.array([1,1]*2+[-1,1]*2+[-1,-1]*2+[1,-1]*2).reshape((-1,2))\n",
    "\n",
    "K, d = b_means.shape\n",
    "b_weights = np.ones((K,))/K\n",
    "\n",
    "BBox = (-2.5,2.5,-2.5,2.5)                                                              \n",
    "gmm_plot2d(b_means, b_covs, b_weights, BBox, log_scale=False, X=None)\n",
    "\n"
   ]
  },
  {
   "cell_type": "code",
   "execution_count": null,
   "metadata": {
    "scrolled": true
   },
   "outputs": [],
   "source": [
    "KLs = []\n",
    "L2s = []\n",
    "WWs = []\n",
    "\n",
    "dists = [\"KL\", \"WKL\",\"W2\"]\n",
    "reduced_mix = {}\n",
    "for dist in dists:\n",
    "    obj = np.Inf\n",
    "    final_rmix = None    \n",
    "    for init in [\"Salmond\", \"Runnalls\", \"Williams\", \"W\", \"kmeans\"]:\n",
    "        rmix = GMR_CTD(b_means, b_covs, b_weights, 4, n_pseudo=0, init_method=init,\n",
    "                           ground_distance=dist, reg=0.1, max_iter=1000, random_state=0)\n",
    "        rmix.iterative()\n",
    "        if rmix.obj < obj:\n",
    "            final_rmix = rmix\n",
    "            obj = rmix.obj\n",
    "    r_means, r_covs, r_weights = final_rmix.reduced_means, final_rmix.reduced_covs, final_rmix.reduced_weights\n",
    "    means = [b_means, r_means]\n",
    "    covs = [b_covs, r_covs]\n",
    "    weights = [b_weights, r_weights]\n",
    "    L2s.append(GMM_L2(means, covs, weights))\n",
    "    KLs.append(MC_KL(means, covs, weights))\n",
    "    WWs.append(GMM_CWD(means, covs, weights, ground_distance=\"W1\"))\n",
    "    \n",
    "    reduced_mix[dist] = final_rmix\n",
    "    gmm_plot2d(final_rmix.reduced_means, final_rmix.reduced_covs, final_rmix.reduced_weights, BBox, log_scale=False, X=None)\n",
    "    \n",
    "print(KLs)\n",
    "print(L2s)\n",
    "print(WWs)\n",
    "\n",
    "# for WKL, increase pseduo sample size help with the final result."
   ]
  },
  {
   "cell_type": "markdown",
   "metadata": {},
   "source": [
    "# case 2"
   ]
  },
  {
   "cell_type": "code",
   "execution_count": null,
   "metadata": {
    "scrolled": true
   },
   "outputs": [],
   "source": [
    "def rotate_mean(r, theta):\n",
    "    return np.array([r*np.cos(theta), r*np.sin(theta)])\n",
    "\n",
    "def rotate_matrix(theta):\n",
    "    return np.array([np.cos(theta), -np.sin(theta), np.sin(theta), np.cos(theta)]).reshape((2,2))\n",
    "\n",
    "angles = np.linspace(0,2,num=16,endpoint=False) * np.pi\n",
    "radius = [1, 1.5]\n",
    "\n",
    "b_means = []\n",
    "for r in radius:\n",
    "    for ang in angles:\n",
    "        b_means.append(rotate_mean(r, ang))\n",
    "\n",
    "b_means = np.stack(b_means)\n",
    "        \n",
    "eigvals = [np.array([0.1,0.01]),np.array([0.1,0.01])]\n",
    "# eigvals = [np.array([0.01,0.1]), np.array([0.01,0.1])]\n",
    "\n",
    "\n",
    "b_covs = []\n",
    "for eigval in eigvals:\n",
    "    for i in range(angles.shape[0]):\n",
    "        rm = rotate_matrix(angles[i])\n",
    "        b_covs.append(rm@np.diag(eigval)@rm.T)\n",
    "\n",
    "\n",
    "b_covs = np.stack(b_covs)\n",
    "\n",
    "K, d = b_means.shape\n",
    "b_weights = np.ones((K,))/K\n",
    "\n",
    "BBox = (-2,2,-2,2)                                                              \n",
    "gmm_plot2d(b_means, b_covs, b_weights, BBox, log_scale=False, X=None)\n",
    "\n"
   ]
  },
  {
   "cell_type": "markdown",
   "metadata": {},
   "source": [
    "## case 3 and case 4"
   ]
  },
  {
   "cell_type": "code",
   "execution_count": null,
   "metadata": {
    "scrolled": true
   },
   "outputs": [],
   "source": [
    "eigvals = [np.array([0.001,1]), np.array([0.01,1]), np.array([0.1, 1])]\n",
    "angles = np.linspace(0, 1, num=6, endpoint=False) * np.pi\n",
    "\n",
    "def rotate_matrix(theta):\n",
    "    return np.array([np.cos(theta), -np.sin(theta), np.sin(theta), np.cos(theta)]).reshape((2,2))\n",
    "\n",
    "b_covs = []\n",
    "\n",
    "for i in range(angles.shape[0]):\n",
    "    rm = rotate_matrix(angles[i])\n",
    "    for eigval in eigvals:\n",
    "        b_covs.append(rm@np.diag(eigval)@rm.T)\n",
    "\n",
    "b_covs = np.stack(b_covs)\n",
    "\n",
    "\n",
    "K, d = len(eigvals) * angles.shape[0], 2\n",
    "b_means = np.zeros((K,d))\n",
    "b_weights = np.array([1/K]*K)\n",
    "BBox = (-2,2,-2,2)                                                              \n",
    "gmm_plot2d(b_means, b_covs, b_weights, BBox, log_scale=True, X=None)"
   ]
  },
  {
   "cell_type": "markdown",
   "metadata": {},
   "source": [
    "### reduce to 6 components"
   ]
  },
  {
   "cell_type": "code",
   "execution_count": null,
   "metadata": {},
   "outputs": [],
   "source": [
    "KLs = []\n",
    "L2s = []\n",
    "WWs = []\n",
    "\n",
    "dists = [\"KL\", \"WKL\",\"W2\"]\n",
    "reduced_mix = {}\n",
    "for dist in dists:\n",
    "    obj = np.Inf\n",
    "    final_rmix = None\n",
    "    for init in [\"Salmond\", \"Runnalls\", \"Williams\", \"W\", \"kmeans\"]:\n",
    "        print(init, dist)\n",
    "        rmix = GMR_CTD(b_means, b_covs, b_weights, 6, n_pseudo=10, init_method=init,\n",
    "                           ground_distance=dist, reg=0.1, max_iter=1000, random_state=0)\n",
    "        rmix.iterative()\n",
    "        if rmix.obj < obj:\n",
    "            final_rmix = rmix\n",
    "            obj = rmix.obj\n",
    "    r_means, r_covs, r_weights = final_rmix.reduced_means, final_rmix.reduced_covs, final_rmix.reduced_weights\n",
    "    means = [b_means, r_means]\n",
    "    covs = [b_covs, r_covs]\n",
    "    weights = [b_weights, r_weights]\n",
    "    L2s.append(GMM_L2(means, covs, weights))\n",
    "    KLs.append(MC_KL(means, covs, weights))\n",
    "    WWs.append(GMM_CWD(means, covs, weights, ground_distance=\"W1\"))\n",
    "    \n",
    "    reduced_mix[dist] = final_rmix\n",
    "    gmm_plot2d(final_rmix.reduced_means, final_rmix.reduced_covs, final_rmix.reduced_weights, BBox, log_scale=True, X=None)\n",
    "    \n",
    "    \n",
    "print(KLs)\n",
    "print(L2s)\n",
    "print(WWs)"
   ]
  },
  {
   "cell_type": "markdown",
   "metadata": {},
   "source": [
    "### reduce to 12 components"
   ]
  },
  {
   "cell_type": "code",
   "execution_count": null,
   "metadata": {
    "scrolled": false
   },
   "outputs": [],
   "source": [
    "KLs = []\n",
    "L2s = []\n",
    "WWs = []\n",
    "\n",
    "dists = [\"KL\", \"WKL\",\"W2\"]\n",
    "reduced_mix = {}\n",
    "for dist in dists:\n",
    "    obj = np.Inf\n",
    "    final_rmix = None\n",
    "    for init in [\"Salmond\", \"Runnalls\", \"Williams\", \"W\", \"kmeans\"]:\n",
    "        rmix = GMR_CTD(b_means, b_covs, b_weights, 12, n_pseudo=1, init_method=init,\n",
    "                           ground_distance=dist, reg=0.1, max_iter=1000, random_state=0)\n",
    "        rmix.iterative()\n",
    "        if rmix.obj < obj:\n",
    "            final_rmix = rmix\n",
    "            obj = rmix.obj\n",
    "    r_means, r_covs, r_weights = final_rmix.reduced_means, final_rmix.reduced_covs, final_rmix.reduced_weights\n",
    "    means = [b_means, r_means]\n",
    "    covs = [b_covs, r_covs]\n",
    "    weights = [b_weights, r_weights]\n",
    "    L2s.append(GMM_L2(means, covs, weights))\n",
    "    KLs.append(MC_KL(means, covs, weights))\n",
    "    WWs.append(GMM_CWD(means, covs, weights, ground_distance=\"W1\"))\n",
    "    \n",
    "    reduced_mix[dist] = final_rmix\n",
    "    gmm_plot2d(final_rmix.reduced_means, final_rmix.reduced_covs, final_rmix.reduced_weights, BBox, log_scale=True, X=None)\n",
    "    \n",
    "    \n",
    "print(KLs)\n",
    "print(L2s)\n",
    "print(WWs)"
   ]
  },
  {
   "cell_type": "code",
   "execution_count": null,
   "metadata": {},
   "outputs": [],
   "source": [
    "KLs = []\n",
    "L2s = []\n",
    "WWs = []\n",
    "\n",
    "dists = [\"KL\", \"WKL\",\"W2\"]\n",
    "reduced_mix = {}\n",
    "for dist in dists:\n",
    "    obj = np.Inf\n",
    "    final_rmix = None\n",
    "    for init in [\"Salmond\", \"Runnalls\", \"Williams\", \"W\", \"kmeans\"]:\n",
    "        rmix = GMR_CTD(b_means, b_covs, b_weights, 16, n_pseudo=0, init_method=init,\n",
    "                           ground_distance=dist, reg=1, max_iter=1000, random_state=0)\n",
    "        rmix.iterative()\n",
    "        \n",
    "        if rmix.obj < obj:\n",
    "            final_rmix = rmix\n",
    "            obj = rmix.obj\n",
    "    r_means, r_covs, r_weights = final_rmix.reduced_means, final_rmix.reduced_covs, final_rmix.reduced_weights\n",
    "    means = [b_means, r_means]\n",
    "    covs = [b_covs, r_covs]\n",
    "    weights = [b_weights, r_weights]\n",
    "    L2s.append(GMM_L2(means, covs, weights))\n",
    "    KLs.append(MC_KL(means, covs, weights))\n",
    "    WWs.append(GMM_CWD(means, covs, weights, ground_distance=\"W1\"))\n",
    "    \n",
    "    reduced_mix[dist] = final_rmix\n",
    "    gmm_plot2d(final_rmix.reduced_means, final_rmix.reduced_covs, final_rmix.reduced_weights, BBox, log_scale=False)\n",
    "    \n",
    "print(KLs)\n",
    "print(L2s)\n",
    "print(WWs)"
   ]
  }
 ],
 "metadata": {
  "kernelspec": {
   "display_name": "Python 3",
   "language": "python",
   "name": "python3"
  },
  "language_info": {
   "codemirror_mode": {
    "name": "ipython",
    "version": 3
   },
   "file_extension": ".py",
   "mimetype": "text/x-python",
   "name": "python",
   "nbconvert_exporter": "python",
   "pygments_lexer": "ipython3",
   "version": "3.7.3"
  }
 },
 "nbformat": 4,
 "nbformat_minor": 2
}
